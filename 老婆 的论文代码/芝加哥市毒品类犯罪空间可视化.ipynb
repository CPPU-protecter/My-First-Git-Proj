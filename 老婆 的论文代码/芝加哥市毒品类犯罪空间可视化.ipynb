{
 "cells": [
  {
   "cell_type": "code",
   "execution_count": 1,
   "metadata": {},
   "outputs": [],
   "source": [
    "import pandas as panda\n",
    "from pyecharts import *\n",
    "from pyecharts.globals import CurrentConfig, NotebookType\n",
    "CurrentConfig.NOTEBOOK_TYPE = NotebookType.JUPYTER_NOTEBOOK\n",
    "CurrentConfig.ONLINE_HOST\n",
    "from pyecharts.globals import ThemeType\n",
    "#如果是pyecharts更早的版本可能不需要运行下面的命令\n",
    "import pyecharts\n",
    "pyecharts.globals._WarningControl.ShowWarning = False\n",
    "\n",
    "import warnings\n",
    "warnings.filterwarnings('ignore')\n",
    "from pyecharts import options as opts\n",
    "#隐藏警告\n",
    "from pyecharts.charts import Geo\n",
    "from collections import Counter\n",
    "from pyecharts.globals import GeoType\n",
    "from pyecharts.globals import ChartType, SymbolType\n",
    "from pyecharts.charts import BMap"
   ]
  },
  {
   "cell_type": "code",
   "execution_count": 2,
   "metadata": {},
   "outputs": [
    {
     "data": {
      "text/plain": [
       "(1753210, 14)"
      ]
     },
     "execution_count": 2,
     "metadata": {},
     "output_type": "execute_result"
    }
   ],
   "source": [
    "data_2015 = pd.read_csv('Chicago_data_2015(264709, 13).csv',encoding = 'gbk')\n",
    "data_2016 = pd.read_csv('Chicago_data_2016(269760, 13).csv',encoding = 'gbk')\n",
    "data_2017 = pd.read_csv('Chicago_data_2017(269007, 13).csv',encoding = 'gbk')\n",
    "data_2018 = pd.read_csv('Chicago_data_2018(268689, 13).csv',encoding = 'gbk')\n",
    "data_2019 = pd.read_csv('Chicago_data_2019(261150, 13).csv',encoding = 'gbk')\n",
    "data_2020 = pd.read_csv('Chicago_data_2020(211937, 13).csv',encoding = 'gbk')\n",
    "data_2021 = pd.read_csv('Chicago_data_2021(207958, 13).csv',encoding = 'gbk')\n",
    "data = pd.concat([data_2015,data_2016,data_2017,data_2018,data_2019,data_2020,data_2021])\n",
    "data.shape"
   ]
  },
  {
   "cell_type": "code",
   "execution_count": 3,
   "metadata": {},
   "outputs": [
    {
     "data": {
      "text/plain": [
       "(90094, 14)"
      ]
     },
     "execution_count": 3,
     "metadata": {},
     "output_type": "execute_result"
    }
   ],
   "source": [
    "data = data[data['案件类型']=='致幻毒品']\n",
    "data.shape"
   ]
  },
  {
   "cell_type": "code",
   "execution_count": 4,
   "metadata": {},
   "outputs": [
    {
     "data": {
      "text/plain": [
       "(85490, 14)"
      ]
     },
     "execution_count": 4,
     "metadata": {},
     "output_type": "execute_result"
    }
   ],
   "source": [
    "data = data.dropna(subset=['经度','纬度'])\n",
    "data.shape"
   ]
  },
  {
   "cell_type": "code",
   "execution_count": 5,
   "metadata": {},
   "outputs": [
    {
     "data": {
      "text/html": [
       "<div>\n",
       "<style scoped>\n",
       "    .dataframe tbody tr th:only-of-type {\n",
       "        vertical-align: middle;\n",
       "    }\n",
       "\n",
       "    .dataframe tbody tr th {\n",
       "        vertical-align: top;\n",
       "    }\n",
       "\n",
       "    .dataframe thead th {\n",
       "        text-align: right;\n",
       "    }\n",
       "</style>\n",
       "<table border=\"1\" class=\"dataframe\">\n",
       "  <thead>\n",
       "    <tr style=\"text-align: right;\">\n",
       "      <th></th>\n",
       "      <th>案件编号</th>\n",
       "      <th>经度</th>\n",
       "      <th>纬度</th>\n",
       "      <th>案件发生时间</th>\n",
       "      <th>案件类型</th>\n",
       "      <th>月份</th>\n",
       "      <th>年份</th>\n",
       "      <th>年份月份</th>\n",
       "      <th>星期</th>\n",
       "      <th>日</th>\n",
       "      <th>小时</th>\n",
       "      <th>分钟</th>\n",
       "    </tr>\n",
       "  </thead>\n",
       "  <tbody>\n",
       "    <tr>\n",
       "      <th>2</th>\n",
       "      <td>HY411595</td>\n",
       "      <td>-87.716650</td>\n",
       "      <td>41.937406</td>\n",
       "      <td>09/05/2015 12:45:00 PM</td>\n",
       "      <td>致幻毒品</td>\n",
       "      <td>9</td>\n",
       "      <td>2015</td>\n",
       "      <td>2015-9</td>\n",
       "      <td>5</td>\n",
       "      <td>5</td>\n",
       "      <td>12</td>\n",
       "      <td>45</td>\n",
       "    </tr>\n",
       "    <tr>\n",
       "      <th>37</th>\n",
       "      <td>HY411661</td>\n",
       "      <td>-87.628299</td>\n",
       "      <td>41.770447</td>\n",
       "      <td>09/05/2015 02:35:00 PM</td>\n",
       "      <td>致幻毒品</td>\n",
       "      <td>9</td>\n",
       "      <td>2015</td>\n",
       "      <td>2015-9</td>\n",
       "      <td>5</td>\n",
       "      <td>5</td>\n",
       "      <td>14</td>\n",
       "      <td>35</td>\n",
       "    </tr>\n",
       "    <tr>\n",
       "      <th>45</th>\n",
       "      <td>HY411709</td>\n",
       "      <td>-87.701850</td>\n",
       "      <td>41.872819</td>\n",
       "      <td>09/05/2015 03:20:00 PM</td>\n",
       "      <td>致幻毒品</td>\n",
       "      <td>9</td>\n",
       "      <td>2015</td>\n",
       "      <td>2015-9</td>\n",
       "      <td>5</td>\n",
       "      <td>5</td>\n",
       "      <td>15</td>\n",
       "      <td>20</td>\n",
       "    </tr>\n",
       "    <tr>\n",
       "      <th>57</th>\n",
       "      <td>HY411732</td>\n",
       "      <td>-87.633298</td>\n",
       "      <td>41.671990</td>\n",
       "      <td>09/05/2015 03:40:00 PM</td>\n",
       "      <td>致幻毒品</td>\n",
       "      <td>9</td>\n",
       "      <td>2015</td>\n",
       "      <td>2015-9</td>\n",
       "      <td>5</td>\n",
       "      <td>5</td>\n",
       "      <td>15</td>\n",
       "      <td>40</td>\n",
       "    </tr>\n",
       "    <tr>\n",
       "      <th>68</th>\n",
       "      <td>HY411777</td>\n",
       "      <td>-87.648699</td>\n",
       "      <td>41.790159</td>\n",
       "      <td>09/05/2015 04:16:00 PM</td>\n",
       "      <td>致幻毒品</td>\n",
       "      <td>9</td>\n",
       "      <td>2015</td>\n",
       "      <td>2015-9</td>\n",
       "      <td>5</td>\n",
       "      <td>5</td>\n",
       "      <td>16</td>\n",
       "      <td>16</td>\n",
       "    </tr>\n",
       "  </tbody>\n",
       "</table>\n",
       "</div>"
      ],
      "text/plain": [
       "        案件编号         经度         纬度                  案件发生时间  案件类型  月份    年份  \\\n",
       "2   HY411595 -87.716650  41.937406  09/05/2015 12:45:00 PM  致幻毒品   9  2015   \n",
       "37  HY411661 -87.628299  41.770447  09/05/2015 02:35:00 PM  致幻毒品   9  2015   \n",
       "45  HY411709 -87.701850  41.872819  09/05/2015 03:20:00 PM  致幻毒品   9  2015   \n",
       "57  HY411732 -87.633298  41.671990  09/05/2015 03:40:00 PM  致幻毒品   9  2015   \n",
       "68  HY411777 -87.648699  41.790159  09/05/2015 04:16:00 PM  致幻毒品   9  2015   \n",
       "\n",
       "      年份月份  星期  日  小时  分钟  \n",
       "2   2015-9   5  5  12  45  \n",
       "37  2015-9   5  5  14  35  \n",
       "45  2015-9   5  5  15  20  \n",
       "57  2015-9   5  5  15  40  \n",
       "68  2015-9   5  5  16  16  "
      ]
     },
     "execution_count": 5,
     "metadata": {},
     "output_type": "execute_result"
    }
   ],
   "source": [
    "data_select = data[['案件编号','经度','纬度','案件发生时间','案件类型']]\n",
    "data_select['月份'] = pd.DatetimeIndex(data_select['案件发生时间']).month\n",
    "data_select['年份'] = pd.DatetimeIndex(data_select['案件发生时间']).year\n",
    "data_select['年份月份'] = [str(i)+'-'+str(j) for i,j in zip(data_select.年份,data_select.月份)]\n",
    "data_select['星期'] = pd.DatetimeIndex(data_select['案件发生时间']).weekday\n",
    "data_select['日'] = pd.DatetimeIndex(data_select['案件发生时间']).day\n",
    "data_select['小时'] = pd.DatetimeIndex(data_select['案件发生时间']).hour\n",
    "data_select['分钟'] = pd.DatetimeIndex(data_select['案件发生时间']).minute\n",
    "data_select.head()"
   ]
  },
  {
   "cell_type": "code",
   "execution_count": 6,
   "metadata": {},
   "outputs": [
    {
     "name": "stdout",
     "output_type": "stream",
     "text": [
      "<class 'pandas.core.frame.DataFrame'>\n",
      "Int64Index: 85490 entries, 2 to 207529\n",
      "Data columns (total 5 columns):\n",
      " #   Column  Non-Null Count  Dtype  \n",
      "---  ------  --------------  -----  \n",
      " 0   案件编号    85490 non-null  object \n",
      " 1   年份      85490 non-null  int64  \n",
      " 2   案件发生时间  85490 non-null  object \n",
      " 3   经度      85490 non-null  float64\n",
      " 4   纬度      85490 non-null  float64\n",
      "dtypes: float64(2), int64(1), object(2)\n",
      "memory usage: 3.9+ MB\n"
     ]
    },
    {
     "data": {
      "text/html": [
       "<div>\n",
       "<style scoped>\n",
       "    .dataframe tbody tr th:only-of-type {\n",
       "        vertical-align: middle;\n",
       "    }\n",
       "\n",
       "    .dataframe tbody tr th {\n",
       "        vertical-align: top;\n",
       "    }\n",
       "\n",
       "    .dataframe thead th {\n",
       "        text-align: right;\n",
       "    }\n",
       "</style>\n",
       "<table border=\"1\" class=\"dataframe\">\n",
       "  <thead>\n",
       "    <tr style=\"text-align: right;\">\n",
       "      <th></th>\n",
       "      <th>案件编号</th>\n",
       "      <th>年份</th>\n",
       "      <th>案件发生时间</th>\n",
       "      <th>经度</th>\n",
       "      <th>纬度</th>\n",
       "    </tr>\n",
       "  </thead>\n",
       "  <tbody>\n",
       "    <tr>\n",
       "      <th>2</th>\n",
       "      <td>HY411595</td>\n",
       "      <td>2015</td>\n",
       "      <td>09/05/2015 12:45:00 PM</td>\n",
       "      <td>-87.716650</td>\n",
       "      <td>41.937406</td>\n",
       "    </tr>\n",
       "    <tr>\n",
       "      <th>37</th>\n",
       "      <td>HY411661</td>\n",
       "      <td>2015</td>\n",
       "      <td>09/05/2015 02:35:00 PM</td>\n",
       "      <td>-87.628299</td>\n",
       "      <td>41.770447</td>\n",
       "    </tr>\n",
       "    <tr>\n",
       "      <th>45</th>\n",
       "      <td>HY411709</td>\n",
       "      <td>2015</td>\n",
       "      <td>09/05/2015 03:20:00 PM</td>\n",
       "      <td>-87.701850</td>\n",
       "      <td>41.872819</td>\n",
       "    </tr>\n",
       "    <tr>\n",
       "      <th>57</th>\n",
       "      <td>HY411732</td>\n",
       "      <td>2015</td>\n",
       "      <td>09/05/2015 03:40:00 PM</td>\n",
       "      <td>-87.633298</td>\n",
       "      <td>41.671990</td>\n",
       "    </tr>\n",
       "    <tr>\n",
       "      <th>68</th>\n",
       "      <td>HY411777</td>\n",
       "      <td>2015</td>\n",
       "      <td>09/05/2015 04:16:00 PM</td>\n",
       "      <td>-87.648699</td>\n",
       "      <td>41.790159</td>\n",
       "    </tr>\n",
       "  </tbody>\n",
       "</table>\n",
       "</div>"
      ],
      "text/plain": [
       "        案件编号    年份                  案件发生时间         经度         纬度\n",
       "2   HY411595  2015  09/05/2015 12:45:00 PM -87.716650  41.937406\n",
       "37  HY411661  2015  09/05/2015 02:35:00 PM -87.628299  41.770447\n",
       "45  HY411709  2015  09/05/2015 03:20:00 PM -87.701850  41.872819\n",
       "57  HY411732  2015  09/05/2015 03:40:00 PM -87.633298  41.671990\n",
       "68  HY411777  2015  09/05/2015 04:16:00 PM -87.648699  41.790159"
      ]
     },
     "execution_count": 6,
     "metadata": {},
     "output_type": "execute_result"
    }
   ],
   "source": [
    "# data.columns=['月份','jd1','wd1','案件发生地址','现场事故发生的名称','犯罪类型']\n",
    "data = data_select[['案件编号','年份','案件发生时间','经度','纬度']]\n",
    "# data.columns=['案件编号','案件类型','案件发生时间','经度','纬度']\n",
    "data.info()\n",
    "data.head()\n",
    "data = data.dropna(subset=['经度','纬度'])\n",
    "data = data.drop_duplicates(subset=['案件编号'], keep='first', )\n",
    "data.head()"
   ]
  },
  {
   "cell_type": "code",
   "execution_count": 10,
   "metadata": {},
   "outputs": [],
   "source": [
    "def criminal_distribution(i):\n",
    "    data1=data[data['年份']==i]\n",
    "#     data1 = data \n",
    "#     print('可选择的犯罪类型包括',data['犯罪类型'].unique())\n",
    "    g = Geo()\n",
    "    BAIDU_AK = \"WrFzGI7rvGi7ylhI7oKspSmsvNYzGSQW\"\n",
    "    b1=BMap(init_opts=opts.InitOpts(width='1430px',height='810px'))\n",
    "    b1.add_schema(\n",
    "                baidu_ak=BAIDU_AK,\n",
    "                center=[data1['经度'].mean(),data1['纬度'].mean()],\n",
    "                zoom=12\n",
    "                )\n",
    "    g.add_schema()\n",
    "    for row in data1.index:\n",
    "        g.add_coordinate(str(data1.loc[row]['案件编号']),data1.loc[row]['经度'],data1.loc[row]['纬度'])\n",
    "    data_pair = []\n",
    "    for row in data1.index:\n",
    "        data_pair.append((str(data1.loc[row]['案件编号']),1))\n",
    "    b1.add('',\n",
    "           data_pair,\n",
    "           label_opts=opts.LabelOpts(is_show = False),\n",
    "           type_=GeoType.SCATTER,\n",
    "           symbol_size=3)\n",
    "    b1.set_global_opts(\n",
    "        visualmap_opts=opts.VisualMapOpts(is_piecewise=True,max_=1),   #注意默认max_\n",
    "        title_opts=opts.TitleOpts(title=\"{}年{}毒品类犯罪分布情况\".format(str(i),'芝加哥市'),pos_left='left',title_textstyle_opts=opts.TextStyleOpts(font_size=35,font_weight='bold')),\n",
    "    )\n",
    "    b1.render('芝加哥市毒品类犯罪分布.html')"
   ]
  },
  {
   "cell_type": "code",
   "execution_count": 11,
   "metadata": {},
   "outputs": [
    {
     "name": "stdout",
     "output_type": "stream",
     "text": [
      "可选的年份: [2015 2016 2017 2018 2019 2020 2021]\n"
     ]
    }
   ],
   "source": [
    "print('可选的年份:',data['年份'].unique())"
   ]
  },
  {
   "cell_type": "code",
   "execution_count": 18,
   "metadata": {},
   "outputs": [
    {
     "name": "stdout",
     "output_type": "stream",
     "text": [
      "2021\n",
      "已在当前目录下生成对应的HTML文件，名为“芝加哥市毒品类犯罪分布.html”，快去点开查看一下吧，欢迎使用本函数！再次使用时仅需要刷新该文件即可，不会占用更多内存！\n"
     ]
    }
   ],
   "source": [
    "i = input()\n",
    "criminal_distribution(int(i))\n",
    "print('已在当前目录下生成对应的HTML文件，名为“芝加哥市毒品类犯罪分布.html”，快去点开查看一下吧，欢迎使用本函数！再次使用时仅需要刷新该文件即可，不会占用更多内存！')"
   ]
  },
  {
   "cell_type": "code",
   "execution_count": null,
   "metadata": {},
   "outputs": [],
   "source": []
  }
 ],
 "metadata": {
  "kernelspec": {
   "display_name": "Python 3 (ipykernel)",
   "language": "python",
   "name": "python3"
  },
  "language_info": {
   "codemirror_mode": {
    "name": "ipython",
    "version": 3
   },
   "file_extension": ".py",
   "mimetype": "text/x-python",
   "name": "python",
   "nbconvert_exporter": "python",
   "pygments_lexer": "ipython3",
   "version": "3.8.5"
  }
 },
 "nbformat": 4,
 "nbformat_minor": 4
}
